{
 "cells": [
  {
   "cell_type": "code",
   "execution_count": 1,
   "metadata": {
    "collapsed": true
   },
   "outputs": [],
   "source": [
    "from preprocess import Session\n",
    "import matplotlib.pyplot as plt\n",
    "import gzip\n",
    "import sys"
   ]
  },
  {
   "cell_type": "code",
   "execution_count": 2,
   "metadata": {
    "collapsed": false
   },
   "outputs": [
    {
     "name": "stdout",
     "output_type": "stream",
     "text": [
      "Total number of lines: 1000000\n",
      "Number of unmatched urls: 4929\n",
      "Number of sessions: 212556\n"
     ]
    }
   ],
   "source": [
    "sessions = []\n",
    "with gzip.open('./input/train.gz', 'r') as f_train:\n",
    "    for (idx, line) in enumerate(f_train):\n",
    "        line = line.decode('utf-8')  # decode byte to string\n",
    "        line = line.strip().split('\\t')\n",
    "\n",
    "        if line[1] == 'M':\n",
    "            sessions.append(Session(line))\n",
    "        elif line[2] == 'Q':\n",
    "            sessions[-1].add_record(line)\n",
    "        elif line[2] == 'C':\n",
    "            sessions[-1].add_click(line)\n",
    "        else:\n",
    "            raise ValueError(\"cannot resolve this line: \\n%s\" % line)\n",
    "        \n",
    "        if idx+1 == 1e6: # for debug\n",
    "            break\n",
    "print(\"Total number of lines: %d\" % (idx+1))\n",
    "print(\"Number of unmatched urls: %d\" % Session.notMatchCnt)\n",
    "print(\"Number of sessions: %d\" % len(sessions))"
   ]
  },
  {
   "cell_type": "code",
   "execution_count": 3,
   "metadata": {
    "collapsed": false
   },
   "outputs": [
    {
     "name": "stdout",
     "output_type": "stream",
     "text": [
      "avg ctr(by session): 0.699613 (148707/212556)\n",
      "avg ctr(by url): 0.107722 (228969/2125560)\n"
     ]
    }
   ],
   "source": [
    "# avg ctr (computed by session & by doc)\n",
    "num_ses, num_click_ses = 0, 0\n",
    "num_url, num_click_url = 0, 0\n",
    "for s in sessions:\n",
    "    num_ses += 1\n",
    "    num_url += len(s.clicked)\n",
    "    temp = sum(s.clicked)\n",
    "    num_click_url += temp\n",
    "    if temp > 0:\n",
    "        num_click_ses += 1\n",
    "print(\"avg ctr(by session): %f (%d/%d)\" % (1.0*num_click_ses/num_ses, num_click_ses, num_ses))\n",
    "print(\"avg ctr(by url): %f (%d/%d)\" % (1.0*num_click_url/num_url, num_click_url, num_url))"
   ]
  },
  {
   "cell_type": "code",
   "execution_count": 4,
   "metadata": {
    "collapsed": false
   },
   "outputs": [
    {
     "data": {
      "image/png": "[encoded data removed]",
      "text/plain": [
       "<matplotlib.figure.Figure at 0x2c7074c9b38>"
      ]
     },
     "metadata": {},
     "output_type": "display_data"
    }
   ],
   "source": [
    "# position of click (1st-10th)\n",
    "click_times = {}\n",
    "for s in sessions:\n",
    "    for idx, clk in enumerate(s.clicked):\n",
    "        if clk > 0:\n",
    "            click_times[idx+1] = click_times.get(idx+1, 0) + 1\n",
    "# print(click_times)\n",
    "plt.bar(list(click_times.keys()), click_times.values(),color='g')\n",
    "plt.xlabel(\"position of url\")\n",
    "plt.ylabel(\"click times\")\n",
    "plt.show()"
   ]
  },
  {
   "cell_type": "code",
   "execution_count": 5,
   "metadata": {
    "collapsed": false
   },
   "outputs": [
    {
     "data": {
      "image/png": "[encoded data removed]",
      "text/plain": [
       "<matplotlib.figure.Figure at 0x2c70749ae48>"
      ]
     },
     "metadata": {},
     "output_type": "display_data"
    }
   ],
   "source": [
    "# number of session per day\n",
    "date_flow = {}\n",
    "for s in sessions:\n",
    "    d = int(s.day)\n",
    "    date_flow[d] = date_flow.get(d, 0) + 1\n",
    "# print(date_flow)\n",
    "plt.bar(list(date_flow.keys()), date_flow.values(),color='g')\n",
    "plt.xlabel(\"date\")\n",
    "plt.ylabel(\"#session\")\n",
    "plt.show()"
   ]
  },
  {
   "cell_type": "code",
   "execution_count": 6,
   "metadata": {
    "collapsed": false
   },
   "outputs": [
    {
     "data": {
      "image/png": "[encoded data removed]",
      "text/plain": [
       "<matplotlib.figure.Figure at 0x2c73301eb70>"
      ]
     },
     "metadata": {},
     "output_type": "display_data"
    }
   ],
   "source": [
    "# session num(query times) for per user\n",
    "query_times = {}\n",
    "for s in sessions:\n",
    "    query_times[s.u_id] = query_times.get(s.u_id, 0) + 1\n",
    "query_times_user_num = {}\n",
    "for k,v in query_times.items():\n",
    "    query_times_user_num[v] = query_times_user_num.get(v, 0) + 1\n",
    "plt.bar(list(query_times_user_num.keys()), query_times_user_num.values(),color='g')\n",
    "plt.xlabel(\"query times\")\n",
    "plt.ylabel(\"#user\")\n",
    "plt.show()"
   ]
  },
  {
   "cell_type": "code",
   "execution_count": 7,
   "metadata": {
    "collapsed": false
   },
   "outputs": [
    {
     "name": "stdout",
     "output_type": "stream",
     "text": [
      "Number of session: 212556\n",
      "#url: 1107414\n",
      "#domain: 265683\n",
      "#query: 137766\n",
      "#terms: 106533\n",
      "Total: 1617396\n",
      "\n"
     ]
    }
   ],
   "source": [
    "# Total number of url, domain, query, terms\n",
    "all_url, all_domain, all_query, all_terms = [set() for i in range(4)]\n",
    "\n",
    "for s in sessions:\n",
    "    for u,d in s.urls:\n",
    "        all_url.add(u)\n",
    "        all_domain.add(d)\n",
    "    all_query.add(s.query)\n",
    "    for t in s.terms:\n",
    "        all_terms.add(t)\n",
    "\n",
    "print(\"Number of session: %d\" % len(sessions))\n",
    "print(\"#url: %d\\n#domain: %d\\n#query: %d\\n#terms: %d\\nTotal: %d\\n\" % \\\n",
    "      (len(all_url), len(all_domain), len(all_query), len(all_terms), \\\n",
    "       len(all_url)+len(all_domain)+len(all_query)+len(all_terms)))"
   ]
  }
 ],
 "metadata": {
  "anaconda-cloud": {},
  "kernelspec": {
   "display_name": "Python 3",
   "language": "python",
   "name": "python3"
  },
  "language_info": {
   "codemirror_mode": {
    "name": "ipython",
    "version": 3
   },
   "file_extension": ".py",
   "mimetype": "text/x-python",
   "name": "python",
   "nbconvert_exporter": "python",
   "pygments_lexer": "ipython3",
   "version": "3.5.3"
  }
 },
 "nbformat": 4,
 "nbformat_minor": 1
}
